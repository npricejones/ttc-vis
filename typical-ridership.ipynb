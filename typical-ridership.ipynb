{
 "cells": [
  {
   "cell_type": "markdown",
   "metadata": {},
   "source": [
    "# The Ridership Data\n",
    "\n",
    "How is this ridership data calculated? Does it attempt to account for turnstile hoppers? How is it averaged? Are exceptional days (weekends, holidays) excepted or averaged in?\n",
    "\n",
    "Answer: taken on non-summer weekdays (presumably different for each station)\n",
    "\n",
    "There is next train info on ttc website.\n",
    "\n",
    "Contact presto for better numbers? how to account for cash fares"
   ]
  },
  {
   "cell_type": "code",
   "execution_count": 11,
   "metadata": {},
   "outputs": [],
   "source": [
    "import numpy as np\n",
    "import pandas as pd\n",
    "import matplotlib.pyplot as plt\n",
    "%matplotlib inline"
   ]
  },
  {
   "cell_type": "code",
   "execution_count": 19,
   "metadata": {},
   "outputs": [],
   "source": [
    "# Station names\n",
    "yus = ['sheppard west','wilson','yorkdale','lawrence west','glencairn','eglinton west','st clair west','dupont','spadina','st george','museum',\"queen's park\",'st patrick','osgoode','st andrew','union','king','queen','dundas','college','wellesley','bloor','rosedale','summerhill','st clair','davisville','eglinton','lawrence','york mills','sheppard','north york centre','finch']\n",
    "bd = ['kipling','islington','royal york','old mill','jane','runnymede','high park','keele','dundas west','lansdowne','dufferin','ossington','christie','bathurst','spadina','st george','bay','yonge','sherbourne','castle frank','broadview','chester','pape','donlands','greenwood','coxwell','woodbine','main street','victoria park','warden','kennedy']\n",
    "danger = ['st clair','lawrence','queen','dundas']\n",
    "danger_corresp = ['st clair west','lawerence west',\"queen's park\",'dundas west']\n",
    "interchange = ['spadina','st george','bloor','yonge'] # bloor-yonge is just one interchange, but it has different names on each line"
   ]
  },
  {
   "cell_type": "code",
   "execution_count": 89,
   "metadata": {},
   "outputs": [],
   "source": [
    "# Information about time chunking\n",
    "starts = np.array(['06:00','06:15','06:30','06:45','07:00','07:15','07:30','07:45','08:00',\n",
    "          '08:15','08:30','08:45','09:00','09:15','09:30','09:45','10:00','10:30',\n",
    "          '11:00','11:30','12:00','12:30','13:00','13:30','14:00','14:30','15:00',\n",
    "          '15:15','15:30','15:45','16:00','16:15','16:30','16:45','17:00','17:15',\n",
    "          '17:30','17:45','18:00','18:15','18:30','18:45','19:00','19:30','20:00',\n",
    "          '20:30','21:00','21:30','22:00','22:30','23:00','23:30','24:00','24:30',\n",
    "          '25:00'])\n",
    "\n",
    "ends = np.array(['06:14','06:29','06:44','06:59','07:14','07:29','07:44','07:59','08:14',\n",
    "        '08:29','08:44','08:59','09:14','09:29','09:44','09:59','10:14','10:29',\n",
    "        '11:29','11:59','12:29','12:59','13:29','13:59','14:29','14:59','15:14',\n",
    "        '15:29','15:44','15:59','16:14','16:29','16:44','16:59','17:14','17:29',\n",
    "        '17:44','17:59','18:14','18:29','18:44','18:59','19:29','19:59','20:29',\n",
    "        '20:59','21:29','21:59','22:29','22:59','23:29','23:59','24:29','24:59',\n",
    "        '25:29'])\n",
    "\n",
    "intervals = np.array([14]*(12+4))\n",
    "intervals = np.append(intervals,np.array([29]*10))\n",
    "intervals = np.append(intervals,np.array([14]*16))\n",
    "intervals = np.append(intervals,np.array([29]*13))\n",
    "\n",
    "trainint = {14:3,29:6}\n",
    "trains = {14:np.floor(14./trainint[14]),29:np.floor(29./trainint[29])}\n",
    "\n",
    "numbertrains = np.zeros(len(intervals))\n",
    "traininterval = np.zeros(len(intervals))\n",
    "for i,interval in enumerate(intervals):\n",
    "    numbertrains[i] = trains[interval]\n",
    "    traininterval[i] = trainint[interval]"
   ]
  },
  {
   "cell_type": "code",
   "execution_count": 94,
   "metadata": {},
   "outputs": [
    {
     "data": {
      "text/plain": [
       "array([14, 14, 14, 14, 14, 14, 14, 14, 14, 14, 14, 14, 14, 14, 14, 14, 29,\n",
       "       29, 29, 29, 29, 29, 29, 29, 29, 29, 14, 14, 14, 14, 14, 14, 14, 14,\n",
       "       14, 14, 14, 14, 14, 14, 14, 14, 29, 29, 29, 29, 29, 29, 29, 29, 29,\n",
       "       29, 29, 29, 29])"
      ]
     },
     "execution_count": 94,
     "metadata": {},
     "output_type": "execute_result"
    }
   ],
   "source": [
    "intervals"
   ]
  },
  {
   "cell_type": "code",
   "execution_count": 93,
   "metadata": {},
   "outputs": [
    {
     "data": {
      "text/plain": [
       "array([4., 4., 4., 4., 4., 4., 4., 4., 4., 4., 4., 4., 4., 4., 4., 4., 4.,\n",
       "       4., 4., 4., 4., 4., 4., 4., 4., 4., 4., 4., 4., 4., 4., 4., 4., 4.,\n",
       "       4., 4., 4., 4., 4., 4., 4., 4., 4., 4., 4., 4., 4., 4., 4., 4., 4.,\n",
       "       4., 4., 4., 4.])"
      ]
     },
     "execution_count": 93,
     "metadata": {},
     "output_type": "execute_result"
    }
   ],
   "source": [
    "numbertrains"
   ]
  },
  {
   "cell_type": "code",
   "execution_count": 95,
   "metadata": {},
   "outputs": [],
   "source": [
    "def read_station_data(stationlist,linenumber):\n",
    "    stationinfo = pd.DataFrame()\n",
    "    for station in stationlist:\n",
    "        stationdata = np.loadtxt('data/{0}-{1}-2017.csv'.format(station,linenumber),delimiter=',',dtype='str')\n",
    "        stationlabels = np.tile([station],len(starts))\n",
    "        tostation = stationdata[:,1][:55]\n",
    "        fromstation = stationdata[:,3][:55]\n",
    "        totalstation = stationdata[:,5][:55]\n",
    "        tempdf = pd.DataFrame()\n",
    "        tempdf['station'] = stationlabels \n",
    "        tempdf['start'] = starts\n",
    "        tempdf['end'] = ends\n",
    "        tempdf['interval'] = intervals\n",
    "        tempdf['to'] = tostation.astype(int)\n",
    "        tempdf['from'] = fromstation.astype(int)\n",
    "        tempdf['total'] = totalstation\n",
    "        tempdf['dep_rate'] = fromstation.astype(int)/intervals\n",
    "        tempdf['arr_rate'] = tostation.astype(int)/numbertrains\n",
    "        tempdf['trains'] = traininterval\n",
    "        stationinfo = stationinfo.append(tempdf,ignore_index=True)  \n",
    "    return stationinfo"
   ]
  },
  {
   "cell_type": "code",
   "execution_count": 96,
   "metadata": {},
   "outputs": [
    {
     "ename": "TypeError",
     "evalue": "ufunc 'true_divide' not supported for the input types, and the inputs could not be safely coerced to any supported types according to the casting rule ''safe''",
     "output_type": "error",
     "traceback": [
      "\u001b[0;31m---------------------------------------------------------------------------\u001b[0m",
      "\u001b[0;31mTypeError\u001b[0m                                 Traceback (most recent call last)",
      "\u001b[0;32m<ipython-input-96-93ef5b214cde>\u001b[0m in \u001b[0;36m<module>\u001b[0;34m\u001b[0m\n\u001b[0;32m----> 1\u001b[0;31m \u001b[0myusinfo\u001b[0m \u001b[0;34m=\u001b[0m \u001b[0mread_station_data\u001b[0m\u001b[0;34m(\u001b[0m\u001b[0myus\u001b[0m\u001b[0;34m,\u001b[0m\u001b[0;36m1\u001b[0m\u001b[0;34m)\u001b[0m\u001b[0;34m\u001b[0m\u001b[0m\n\u001b[0m",
      "\u001b[0;32m<ipython-input-95-c3572cb43063>\u001b[0m in \u001b[0;36mread_station_data\u001b[0;34m(stationlist, linenumber)\u001b[0m\n\u001b[1;32m     12\u001b[0m         \u001b[0mtempdf\u001b[0m\u001b[0;34m[\u001b[0m\u001b[0;34m'from'\u001b[0m\u001b[0;34m]\u001b[0m \u001b[0;34m=\u001b[0m \u001b[0mstationdata\u001b[0m\u001b[0;34m[\u001b[0m\u001b[0;34m:\u001b[0m\u001b[0;34m,\u001b[0m\u001b[0;36m3\u001b[0m\u001b[0;34m]\u001b[0m\u001b[0;34m[\u001b[0m\u001b[0;34m:\u001b[0m\u001b[0;36m55\u001b[0m\u001b[0;34m]\u001b[0m\u001b[0;34m\u001b[0m\u001b[0m\n\u001b[1;32m     13\u001b[0m         \u001b[0mtempdf\u001b[0m\u001b[0;34m[\u001b[0m\u001b[0;34m'total'\u001b[0m\u001b[0;34m]\u001b[0m \u001b[0;34m=\u001b[0m \u001b[0mstationdata\u001b[0m\u001b[0;34m[\u001b[0m\u001b[0;34m:\u001b[0m\u001b[0;34m,\u001b[0m\u001b[0;36m5\u001b[0m\u001b[0;34m]\u001b[0m\u001b[0;34m[\u001b[0m\u001b[0;34m:\u001b[0m\u001b[0;36m55\u001b[0m\u001b[0;34m]\u001b[0m\u001b[0;34m\u001b[0m\u001b[0m\n\u001b[0;32m---> 14\u001b[0;31m         \u001b[0mtempdf\u001b[0m\u001b[0;34m[\u001b[0m\u001b[0;34m'dep_rate'\u001b[0m\u001b[0;34m]\u001b[0m \u001b[0;34m=\u001b[0m \u001b[0mstationdata\u001b[0m\u001b[0;34m[\u001b[0m\u001b[0;34m:\u001b[0m\u001b[0;34m,\u001b[0m\u001b[0;36m3\u001b[0m\u001b[0;34m]\u001b[0m\u001b[0;34m[\u001b[0m\u001b[0;34m:\u001b[0m\u001b[0;36m55\u001b[0m\u001b[0;34m]\u001b[0m\u001b[0;34m/\u001b[0m\u001b[0mintervals\u001b[0m\u001b[0;34m.\u001b[0m\u001b[0mastype\u001b[0m\u001b[0;34m(\u001b[0m\u001b[0mfloat\u001b[0m\u001b[0;34m)\u001b[0m\u001b[0;34m\u001b[0m\u001b[0m\n\u001b[0m\u001b[1;32m     15\u001b[0m         \u001b[0mtempdf\u001b[0m\u001b[0;34m[\u001b[0m\u001b[0;34m'arr_rate'\u001b[0m\u001b[0;34m]\u001b[0m \u001b[0;34m=\u001b[0m \u001b[0mstationdata\u001b[0m\u001b[0;34m[\u001b[0m\u001b[0;34m:\u001b[0m\u001b[0;34m,\u001b[0m\u001b[0;36m1\u001b[0m\u001b[0;34m]\u001b[0m\u001b[0;34m[\u001b[0m\u001b[0;34m:\u001b[0m\u001b[0;36m55\u001b[0m\u001b[0;34m]\u001b[0m\u001b[0;34m/\u001b[0m\u001b[0mnumbertrains\u001b[0m\u001b[0;34m\u001b[0m\u001b[0m\n\u001b[1;32m     16\u001b[0m         \u001b[0mtempdf\u001b[0m\u001b[0;34m[\u001b[0m\u001b[0;34m'trains'\u001b[0m\u001b[0;34m]\u001b[0m \u001b[0;34m=\u001b[0m \u001b[0mtraininterval\u001b[0m\u001b[0;34m\u001b[0m\u001b[0m\n",
      "\u001b[0;31mTypeError\u001b[0m: ufunc 'true_divide' not supported for the input types, and the inputs could not be safely coerced to any supported types according to the casting rule ''safe''"
     ]
    }
   ],
   "source": [
    "yusinfo = read_station_data(yus,1)"
   ]
  },
  {
   "cell_type": "code",
   "execution_count": 83,
   "metadata": {},
   "outputs": [],
   "source": [
    "bdinfo = read_station_data(bd,2)"
   ]
  },
  {
   "cell_type": "markdown",
   "metadata": {},
   "source": [
    "## Animation\n",
    "\n",
    "Assume riders arrive at the value 'from' column divided by the time difference. Riders are picked up by trains that run at their scheduled intervals, and a number of riders equal to the value of the 'to' column divided by the number of trains in the interval. For now, assume trains every 3 minutes in the 14 minute increments and every 6 minutes otherwise."
   ]
  },
  {
   "cell_type": "markdown",
   "metadata": {},
   "source": [
    "### Yonge-University-Spadina"
   ]
  },
  {
   "cell_type": "code",
   "execution_count": null,
   "metadata": {},
   "outputs": [],
   "source": [
    "yusinfo['']"
   ]
  }
 ],
 "metadata": {
  "kernelspec": {
   "display_name": "Python 3",
   "language": "python",
   "name": "python3"
  },
  "language_info": {
   "codemirror_mode": {
    "name": "ipython",
    "version": 3
   },
   "file_extension": ".py",
   "mimetype": "text/x-python",
   "name": "python",
   "nbconvert_exporter": "python",
   "pygments_lexer": "ipython3",
   "version": "3.7.0"
  }
 },
 "nbformat": 4,
 "nbformat_minor": 2
}
